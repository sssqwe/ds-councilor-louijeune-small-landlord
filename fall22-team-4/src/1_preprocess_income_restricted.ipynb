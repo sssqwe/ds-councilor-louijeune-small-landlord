{
 "cells": [
  {
   "cell_type": "code",
   "execution_count": null,
   "metadata": {},
   "outputs": [],
   "source": [
    "import pandas as pd"
   ]
  },
  {
   "cell_type": "markdown",
   "metadata": {},
   "source": [
    "## 1.2 Clean data for Income-Restricted Housing DB"
   ]
  },
  {
   "cell_type": "code",
   "execution_count": null,
   "metadata": {},
   "outputs": [],
   "source": [
    "# Load the data from data/income_restricted.csv\n",
    "ir_df = pd.read_csv('../data/raw/income_restricted.csv')\n",
    "ir_df.head()"
   ]
  },
  {
   "cell_type": "code",
   "execution_count": null,
   "metadata": {},
   "outputs": [],
   "source": [
    "# Select columns we are interested in\n",
    "interested_columns = [\"Project Name\", \"Zip Code\", \"Section 8\", \"TtlProjUnits\"]\n",
    "income_restricted = ir_df[interested_columns]\n",
    "\n",
    "# Rename columns\n",
    "income_restricted = income_restricted.rename(columns={\n",
    "    \"Project Name\": \"PROJ_NAME\",\n",
    "    \"Zip Code\": \"ZIPCODE\",\n",
    "    \"Section 8\": \"SECTION8\",\n",
    "    \"TtlProjUnits\": \"RES_UNITS\"\n",
    "})\n",
    "\n",
    "# Fill NaN zipcodes with 0\n",
    "income_restricted[\"ZIPCODE\"] = income_restricted[\"ZIPCODE\"].fillna(0)\n",
    "\n",
    "income_restricted.head()"
   ]
  },
  {
   "cell_type": "code",
   "execution_count": null,
   "metadata": {},
   "outputs": [],
   "source": [
    "%pip install python-dotenv"
   ]
  },
  {
   "cell_type": "code",
   "execution_count": null,
   "metadata": {},
   "outputs": [],
   "source": [
    "# Derive street name from Project Name using Google's Place API\n",
    "import requests\n",
    "import os\n",
    "\n",
    "# Load .env file\n",
    "from dotenv import load_dotenv\n",
    "load_dotenv()\n",
    "\n",
    "URL = \"https://maps.googleapis.com/maps/api/place/findplacefromtext/json\"\n",
    "API_KEY = os.environ[\"GOOGLE_API_KEY\"]\n",
    "\n",
    "def derive_street_name(row):\n",
    "    project_name = row[\"PROJ_NAME\"]\n",
    "    zip_code = int(row[\"ZIPCODE\"])\n",
    "    \n",
    "    if zip_code == 0:\n",
    "        input = project_name\n",
    "    else:\n",
    "        input = f\"{project_name} {zip_code:05d}\"\n",
    "\n",
    "    res = requests.get(\n",
    "        URL,\n",
    "        params={\n",
    "            \"input\": input,\n",
    "            \"inputtype\": \"textquery\",\n",
    "            \"key\": API_KEY,\n",
    "            \"fields\": \"formatted_address\"\n",
    "        }\n",
    "    )\n",
    "\n",
    "    addresses = res.json()[\"candidates\"]\n",
    "    if len(addresses) == 0:\n",
    "        return pd.Series([project_name, \"\"])\n",
    "\n",
    "    if \"formatted_address\" not in addresses[0]:\n",
    "        return pd.Series([project_name, \"\"])\n",
    "    \n",
    "    return pd.Series([project_name, addresses[0][\"formatted_address\"]])\n",
    "    \n",
    "# Create new DataFrame with PROJ_NAME and ADDRESS columns\n",
    "proj_to_address = pd.DataFrame(columns=[\"PROJ_NAME\", \"ADDRESS\"])\n",
    "proj_to_address[[\"PROJ_NAME\", \"ADDRESS\"]] = income_restricted.apply(derive_street_name, axis=1)\n",
    "\n",
    "# Save as csv file\n",
    "proj_to_address.to_csv(\"../data/clean/proj_to_address.csv\", index=False)\n",
    "\n",
    "proj_to_address.head()"
   ]
  },
  {
   "cell_type": "code",
   "execution_count": null,
   "metadata": {},
   "outputs": [],
   "source": [
    "import re\n",
    "import pandas as pd\n",
    "\n",
    "proj_to_address = pd.read_csv(\"../data/clean/proj_to_address.csv\")\n",
    "\n",
    "# Join income_restricted with proj_to_address on PROJ_NAME\n",
    "joined_data = income_restricted.join(\n",
    "    proj_to_address.set_index(\"PROJ_NAME\"),\n",
    "    on=\"PROJ_NAME\",\n",
    "    how=\"left\",\n",
    "    lsuffix=\"_income_restricted\",\n",
    "    rsuffix=\"_proj_to_address\"\n",
    ")\n",
    "\n",
    "def is_number(s):\n",
    "    try:\n",
    "        int(s)\n",
    "        return True\n",
    "    except ValueError:\n",
    "        return False\n",
    "\n",
    "def parse_address(formatted_address):\n",
    "    \"\"\"\n",
    "    Parse the address into a series of components.\n",
    "\n",
    "    Example street: 100 Shawmut Ave, Boston, MA 02118, United States\n",
    "    \"\"\"\n",
    "    if formatted_address != formatted_address:\n",
    "        return pd.Series([None, None, None])\n",
    "\n",
    "    address = formatted_address.split(',')[:-2]\n",
    "    if len(address) != 2:\n",
    "        return pd.Series([None, None, None])\n",
    "\n",
    "    street_number = address[0].split(' ')[0]\n",
    "    if is_number(street_number):\n",
    "        street_number = int(street_number)\n",
    "        street_name = address[0].partition(' ')[2]\n",
    "    else:\n",
    "        street_number = None\n",
    "        street_name = address[0]\n",
    "    \n",
    "    city = address[1]\n",
    "\n",
    "    return pd.Series([street_number, street_name, city])\n",
    "\n",
    "joined_data[[\"ST_NUM\", \"ST_NAME\", \"CITY\"]] = joined_data[\"ADDRESS\"].apply(parse_address)\n",
    "\n",
    "# Drop the formatted_address column and project name\n",
    "joined_data = joined_data.drop(columns=[\"ADDRESS\"])\n",
    "\n",
    "joined_data.to_csv(\"../data/clean/income_restricted_housing.csv\", index=False)\n",
    "\n",
    "joined_data.head()"
   ]
  },
  {
   "cell_type": "code",
   "execution_count": null,
   "metadata": {},
   "outputs": [],
   "source": []
  }
 ],
 "metadata": {
  "kernelspec": {
   "display_name": "Python 3.10.3 64-bit",
   "language": "python",
   "name": "python3"
  },
  "language_info": {
   "codemirror_mode": {
    "name": "ipython",
    "version": 3
   },
   "file_extension": ".py",
   "mimetype": "text/x-python",
   "name": "python",
   "nbconvert_exporter": "python",
   "pygments_lexer": "ipython3",
   "version": "3.10.3"
  },
  "orig_nbformat": 4,
  "vscode": {
   "interpreter": {
    "hash": "aee8b7b246df8f9039afb4144a1f6fd8d2ca17a180786b69acc140d282b71a49"
   }
  }
 },
 "nbformat": 4,
 "nbformat_minor": 2
}
