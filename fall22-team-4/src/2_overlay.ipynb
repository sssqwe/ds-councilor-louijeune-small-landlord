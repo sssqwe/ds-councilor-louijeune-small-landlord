{
 "cells": [
  {
   "cell_type": "code",
   "execution_count": null,
   "metadata": {},
   "outputs": [],
   "source": [
    "import pandas as pd"
   ]
  },
  {
   "cell_type": "markdown",
   "metadata": {},
   "source": [
    "# Load clean datasets"
   ]
  },
  {
   "cell_type": "code",
   "execution_count": null,
   "metadata": {},
   "outputs": [],
   "source": [
    "ah_df = pd.read_csv('../data/clean/all_housing.csv')\n",
    "ah_df"
   ]
  },
  {
   "cell_type": "code",
   "execution_count": null,
   "metadata": {},
   "outputs": [],
   "source": [
    "ir_df = pd.read_csv('../data/clean/income_restricted_housing.csv')\n",
    "ir_df"
   ]
  },
  {
   "cell_type": "markdown",
   "metadata": {},
   "source": [
    "# Step 2. Overlay data between DBs\n",
    "\n",
    "## Create index to join both dataframes"
   ]
  },
  {
   "cell_type": "code",
   "execution_count": null,
   "metadata": {},
   "outputs": [],
   "source": [
    "import re\n",
    "\n",
    "def create_st_index(row):\n",
    "    street_name = row[\"ST_NAME\"]\n",
    "    street_number = row[\"ST_NUM\"]\n",
    "\n",
    "    if street_name != street_name:\n",
    "        return None\n",
    "\n",
    "    street_name = street_name.lower()\n",
    "\n",
    "    # Remove all non-alphanumeric characters\n",
    "    street_name = re.sub(r'[^a-z0-9\\s]', '', street_name)\n",
    "\n",
    "    # Remove occurances of all these words from the street name\n",
    "    remove_words = set([\"ave\",\"av\", \"st\", \"str\", \"street\", \"avenue\"])\n",
    "    street_name = ' '.join([word for word in street_name.split() if word not in remove_words])\n",
    "\n",
    "    if not street_number or street_number != street_number:\n",
    "        return street_name\n",
    "    return f\"{int(street_number)} {street_name}\"\n",
    "\n",
    "ah_df[\"join_idx\"] = ah_df.apply(create_st_index, axis=1)\n",
    "ir_df[\"join_idx\"] = ir_df.apply(create_st_index, axis=1)\n",
    "\n",
    "# Drop nans\n",
    "ah_df.dropna(inplace=True, subset=[\"join_idx\"])\n",
    "ir_df.dropna(inplace=True, subset=[\"join_idx\"])\n",
    "\n",
    "# Set join_idx as a string\n",
    "ah_df[\"join_idx\"] = ah_df[\"join_idx\"].astype(str)\n",
    "ir_df[\"join_idx\"] = ir_df[\"join_idx\"].astype(str)"
   ]
  },
  {
   "cell_type": "markdown",
   "metadata": {},
   "source": [
    "## Filter for housing whose join_index is on the income restricted dataset"
   ]
  },
  {
   "cell_type": "code",
   "execution_count": null,
   "metadata": {},
   "outputs": [],
   "source": [
    "# Tag rows where join_idx is in the other dataframe with new column IS_AFFORDABLE\n",
    "ah_df[\"IS_AFFORDABLE\"] = ah_df[\"join_idx\"].isin(ir_df[\"join_idx\"])\n",
    "\n",
    "# Save to csv\n",
    "ah_df.to_csv(\"../data/clean/result.csv\", index=False)\n",
    "\n",
    "ah_df"
   ]
  }
 ],
 "metadata": {
  "kernelspec": {
   "display_name": "Python 3.10.3 64-bit",
   "language": "python",
   "name": "python3"
  },
  "language_info": {
   "codemirror_mode": {
    "name": "ipython",
    "version": 3
   },
   "file_extension": ".py",
   "mimetype": "text/x-python",
   "name": "python",
   "nbconvert_exporter": "python",
   "pygments_lexer": "ipython3",
   "version": "3.10.3"
  },
  "orig_nbformat": 4,
  "vscode": {
   "interpreter": {
    "hash": "aee8b7b246df8f9039afb4144a1f6fd8d2ca17a180786b69acc140d282b71a49"
   }
  }
 },
 "nbformat": 4,
 "nbformat_minor": 2
}
