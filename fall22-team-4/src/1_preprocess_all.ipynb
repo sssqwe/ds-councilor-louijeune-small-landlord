{
 "cells": [
  {
   "cell_type": "markdown",
   "metadata": {},
   "source": [
    "# Step 1 - Clean data"
   ]
  },
  {
   "cell_type": "code",
   "execution_count": null,
   "metadata": {},
   "outputs": [],
   "source": [
    "import pandas as pd\n",
    "import re"
   ]
  },
  {
   "cell_type": "markdown",
   "metadata": {},
   "source": [
    "## 1.1 Clean data for Property Assessment DB"
   ]
  },
  {
   "cell_type": "code",
   "execution_count": null,
   "metadata": {},
   "outputs": [],
   "source": [
    "# Load the data from data/property_assessment.csv\n",
    "pa_df = pd.read_csv('../data/raw/all_housing.csv')\n",
    "pa_df.head()"
   ]
  },
  {
   "cell_type": "code",
   "execution_count": null,
   "metadata": {},
   "outputs": [],
   "source": [
    "# Select columns we are interested in\n",
    "interested_columns = [\"OWN_OCC\", \"LU_DESC\", \"UNIT_NUM\", \"ST_NUM\", \"ST_NAME\", \"ZIPCODE\", \"CITY\", \"RES_UNITS\", \"OWNER\"]\n",
    "property_assessment = pa_df[interested_columns]\n",
    "property_assessment"
   ]
  },
  {
   "cell_type": "code",
   "execution_count": null,
   "metadata": {},
   "outputs": [],
   "source": [
    "# Since ST NUM could be a range of numbers like 100 200 we expand it into a row with one number each\n",
    "result_rows = []\n",
    "\n",
    "def expand_st_num(row):\n",
    "    row = row.to_dict()\n",
    "\n",
    "    if row[\"ST_NUM\"] is None:\n",
    "        result_rows.append(row)\n",
    "        return\n",
    "\n",
    "    # Split numbers using regex\n",
    "    numbers = re.findall(r'\\d+', row[\"ST_NUM\"])\n",
    "    st_nums = [int(n) for n in numbers]\n",
    "    \n",
    "    if len(st_nums) > 1:\n",
    "        # Extract all numbers from the string\n",
    "        first = st_nums[0]\n",
    "        last = st_nums[-1]\n",
    "\n",
    "        for i in range(first, last + 1):\n",
    "            new_row = row.copy()\n",
    "            new_row[\"ST_NUM\"] = i\n",
    "            result_rows.append(new_row)\n",
    "    elif len(st_nums) == 1:\n",
    "        # Convert to integer\n",
    "        row[\"ST_NUM\"] = st_nums[0]\n",
    "        result_rows.append(row)\n",
    "    else:\n",
    "        # If street number is not a number, set to None\n",
    "        row[\"ST_NUM\"] = None\n",
    "        result_rows.append(row)\n",
    "\n",
    "property_assessment.apply(expand_st_num, axis=1)\n",
    "result_df = pd.DataFrame(result_rows)\n",
    "result_df"
   ]
  },
  {
   "cell_type": "code",
   "execution_count": null,
   "metadata": {},
   "outputs": [],
   "source": [
    "# Save the result\n",
    "result_df.to_csv('../data/clean/all_housing.csv', index=False)"
   ]
  }
 ],
 "metadata": {
  "kernelspec": {
   "display_name": "Python 3.10.3 64-bit",
   "language": "python",
   "name": "python3"
  },
  "language_info": {
   "codemirror_mode": {
    "name": "ipython",
    "version": 3
   },
   "file_extension": ".py",
   "mimetype": "text/x-python",
   "name": "python",
   "nbconvert_exporter": "python",
   "pygments_lexer": "ipython3",
   "version": "3.10.3"
  },
  "orig_nbformat": 4,
  "vscode": {
   "interpreter": {
    "hash": "aee8b7b246df8f9039afb4144a1f6fd8d2ca17a180786b69acc140d282b71a49"
   }
  }
 },
 "nbformat": 4,
 "nbformat_minor": 2
}
