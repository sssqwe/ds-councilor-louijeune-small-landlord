{
 "cells": [
  {
   "cell_type": "markdown",
   "metadata": {},
   "source": [
    "we will be working with a very large database here"
   ]
  },
  {
   "cell_type": "markdown",
   "metadata": {},
   "source": [
    "Resources: \n",
    "https://www.mass.gov/doc/list-of-town-ids-and-names-pdf/download \n",
    "This link shows the municipal Id we are interested in"
   ]
  },
  {
   "cell_type": "code",
   "execution_count": 1,
   "metadata": {},
   "outputs": [],
   "source": [
    "import pandas as pd\n",
    "import csv"
   ]
  },
  {
   "cell_type": "code",
   "execution_count": 21,
   "metadata": {},
   "outputs": [],
   "source": [
    "file_name = 'mapc.ma_parcels_metrofuture.csv'\n",
    "file2_name = 'bostonParcelsData.csv'"
   ]
  },
  {
   "cell_type": "code",
   "execution_count": 40,
   "metadata": {},
   "outputs": [
    {
     "name": "stdout",
     "output_type": "stream",
     "text": [
      "['objectid', 'mapc_id', 'muni_id', 'muni', 'parloc_id', 'poly_typ', 'map_num', 'mappar_id', 'loc_id_cnt', 'land_value', 'bldg_value', 'othr_value', 'total_value', 'ls_price', 'ls_date', 'bldg_area', 'res_area', 'luc_1', 'luc_2', 'luc_adj_1', 'luc_adj_2', 'num_units', 'units_est', 'units_src', 'num_rooms', 'yr_built', 'site_addr', 'addr_str', 'addr_num', 'addr_zip', 'owner_name', 'owner_addr', 'owner_city', 'owner_stat', 'owner_zip', 'fy', 'lot_areaft', 'far', 'pct_imperv', 'pct_bldg', 'pct_pave', 'landv_pac', 'bldgv_psf', 'totv_pac', 'bldlnd_rat', 'sqm_imperv', 'sqm_bldg', 'sqm_pave', 'realesttyp', 'temp', 'shape']\n"
     ]
    }
   ],
   "source": [
    "from doctest import master\n",
    "\n",
    "\n",
    "with open(file_name) as csv_file:\n",
    "    #source :https://www.geeksforgeeks.org/get-column-names-from-csv-using-python/\n",
    "    # creating an object of csv reader\n",
    "    # with the delimiter as ,\n",
    "    csv_reader = csv.reader(csv_file, delimiter = ',')\n",
    "    # list to store the names of columns\n",
    "    list_of_column_names = []\n",
    " \n",
    "    # loop to iterate through the rows of csv\n",
    "    for row in csv_reader:\n",
    " \n",
    "        # adding the first row\n",
    "        list_of_column_names.append(row)\n",
    " \n",
    "        # breaking the loop after the\n",
    "        # first iteration itself\n",
    "        break\n",
    "\n",
    "masterColumnNames = list_of_column_names[0]\n",
    "print(masterColumnNames)\n",
    "df = pd.DataFrame(columns= list_of_column_names[0])\n",
    "df.to_csv(file2_name, encoding='utf-8', index=False)\n"
   ]
  },
  {
   "cell_type": "code",
   "execution_count": null,
   "metadata": {},
   "outputs": [],
   "source": [
    "for chunk in pd.read_csv(file_name, chunksize= 20000):\n",
    "    chunk = chunk[chunk[\"muni_id\"] == 35]\n",
    "    chunk.to_csv(file2_name, mode='a', index=False, header=False) # this line adds to a python database \n",
    "    #this filters boston data"
   ]
  },
  {
   "cell_type": "markdown",
   "metadata": {},
   "source": [
    "<h> ALL CODE ABOVE DOES NOT NEED TO BE EDITED</h>\n",
    "The filtered data has been placed inside of bostonparcelsdata.csv you can access that file and do any data analysis on it\n",
    "\n",
    "\n",
    "https://www.mass.gov/doc/standard-for-digital-parcels-and-related-data-sets-version-3/download\n",
    "This link contains the column information, however we need better documentation for this\n"
   ]
  },
  {
   "cell_type": "code",
   "execution_count": 2,
   "metadata": {},
   "outputs": [],
   "source": [
    "import pandas as pd\n",
    "import csv\n",
    "dataFile = 'bostonParcelsData.csv'"
   ]
  },
  {
   "cell_type": "code",
   "execution_count": 3,
   "metadata": {},
   "outputs": [
    {
     "name": "stderr",
     "output_type": "stream",
     "text": [
      "/var/folders/3b/f76j725j65sdr8436v5yf6c40000gn/T/ipykernel_65819/203887038.py:1: DtypeWarning: Columns (7,29,34) have mixed types. Specify dtype option on import or set low_memory=False.\n",
      "  df = pd.read_csv(dataFile)\n"
     ]
    },
    {
     "data": {
      "text/html": [
       "<div>\n",
       "<style scoped>\n",
       "    .dataframe tbody tr th:only-of-type {\n",
       "        vertical-align: middle;\n",
       "    }\n",
       "\n",
       "    .dataframe tbody tr th {\n",
       "        vertical-align: top;\n",
       "    }\n",
       "\n",
       "    .dataframe thead th {\n",
       "        text-align: right;\n",
       "    }\n",
       "</style>\n",
       "<table border=\"1\" class=\"dataframe\">\n",
       "  <thead>\n",
       "    <tr style=\"text-align: right;\">\n",
       "      <th></th>\n",
       "      <th>objectid</th>\n",
       "      <th>mapc_id</th>\n",
       "      <th>muni_id</th>\n",
       "      <th>muni</th>\n",
       "      <th>parloc_id</th>\n",
       "      <th>poly_typ</th>\n",
       "      <th>map_num</th>\n",
       "      <th>mappar_id</th>\n",
       "      <th>loc_id_cnt</th>\n",
       "      <th>land_value</th>\n",
       "      <th>...</th>\n",
       "      <th>landv_pac</th>\n",
       "      <th>bldgv_psf</th>\n",
       "      <th>totv_pac</th>\n",
       "      <th>bldlnd_rat</th>\n",
       "      <th>sqm_imperv</th>\n",
       "      <th>sqm_bldg</th>\n",
       "      <th>sqm_pave</th>\n",
       "      <th>realesttyp</th>\n",
       "      <th>temp</th>\n",
       "      <th>shape</th>\n",
       "    </tr>\n",
       "  </thead>\n",
       "  <tbody>\n",
       "    <tr>\n",
       "      <th>0</th>\n",
       "      <td>797047</td>\n",
       "      <td>1512945</td>\n",
       "      <td>35</td>\n",
       "      <td>Boston</td>\n",
       "      <td>M_233023_891613</td>\n",
       "      <td>Boston_poly</td>\n",
       "      <td>NaN</td>\n",
       "      <td>1802214000</td>\n",
       "      <td>1.0</td>\n",
       "      <td>17300.0</td>\n",
       "      <td>...</td>\n",
       "      <td>191628.839449</td>\n",
       "      <td>-0.9999</td>\n",
       "      <td>191628.839449</td>\n",
       "      <td>0.0</td>\n",
       "      <td>33.501537</td>\n",
       "      <td>-0.9999</td>\n",
       "      <td>0.0</td>\n",
       "      <td>12.0</td>\n",
       "      <td>NaN</td>\n",
       "      <td>3C00000005000000080010006A69000024022101010000...</td>\n",
       "    </tr>\n",
       "    <tr>\n",
       "      <th>1</th>\n",
       "      <td>797048</td>\n",
       "      <td>1512946</td>\n",
       "      <td>35</td>\n",
       "      <td>Boston</td>\n",
       "      <td>M_232707_891494</td>\n",
       "      <td>Boston_poly</td>\n",
       "      <td>NaN</td>\n",
       "      <td>1802670000</td>\n",
       "      <td>1.0</td>\n",
       "      <td>20800.0</td>\n",
       "      <td>...</td>\n",
       "      <td>229673.507517</td>\n",
       "      <td>-0.9999</td>\n",
       "      <td>229673.507517</td>\n",
       "      <td>0.0</td>\n",
       "      <td>-0.999900</td>\n",
       "      <td>-0.9999</td>\n",
       "      <td>0.0</td>\n",
       "      <td>12.0</td>\n",
       "      <td>NaN</td>\n",
       "      <td>3C00000005000000080010006A69000024022101010000...</td>\n",
       "    </tr>\n",
       "    <tr>\n",
       "      <th>2</th>\n",
       "      <td>797049</td>\n",
       "      <td>1512947</td>\n",
       "      <td>35</td>\n",
       "      <td>Boston</td>\n",
       "      <td>M_227884_890500</td>\n",
       "      <td>Boston_poly</td>\n",
       "      <td>NaN</td>\n",
       "      <td>2011012000</td>\n",
       "      <td>1.0</td>\n",
       "      <td>6600.0</td>\n",
       "      <td>...</td>\n",
       "      <td>243601.146454</td>\n",
       "      <td>-0.9999</td>\n",
       "      <td>243601.146454</td>\n",
       "      <td>0.0</td>\n",
       "      <td>-0.999900</td>\n",
       "      <td>-0.9999</td>\n",
       "      <td>0.0</td>\n",
       "      <td>12.0</td>\n",
       "      <td>NaN</td>\n",
       "      <td>3A00000005000000080010006A69000022022101010000...</td>\n",
       "    </tr>\n",
       "    <tr>\n",
       "      <th>3</th>\n",
       "      <td>797050</td>\n",
       "      <td>1512948</td>\n",
       "      <td>35</td>\n",
       "      <td>Boston</td>\n",
       "      <td>M_228049_890279</td>\n",
       "      <td>Boston_poly</td>\n",
       "      <td>NaN</td>\n",
       "      <td>2011140000</td>\n",
       "      <td>1.0</td>\n",
       "      <td>9000.0</td>\n",
       "      <td>...</td>\n",
       "      <td>208137.943829</td>\n",
       "      <td>-0.9999</td>\n",
       "      <td>208137.943829</td>\n",
       "      <td>0.0</td>\n",
       "      <td>-0.999900</td>\n",
       "      <td>-0.9999</td>\n",
       "      <td>0.0</td>\n",
       "      <td>12.0</td>\n",
       "      <td>NaN</td>\n",
       "      <td>4200000006000000080010006A6900002A022101010000...</td>\n",
       "    </tr>\n",
       "    <tr>\n",
       "      <th>4</th>\n",
       "      <td>797051</td>\n",
       "      <td>1512949</td>\n",
       "      <td>35</td>\n",
       "      <td>Boston</td>\n",
       "      <td>M_232563_891546</td>\n",
       "      <td>Boston_poly</td>\n",
       "      <td>NaN</td>\n",
       "      <td>1802571000</td>\n",
       "      <td>1.0</td>\n",
       "      <td>16200.0</td>\n",
       "      <td>...</td>\n",
       "      <td>157623.634360</td>\n",
       "      <td>-0.9999</td>\n",
       "      <td>157623.634360</td>\n",
       "      <td>0.0</td>\n",
       "      <td>-0.999900</td>\n",
       "      <td>-0.9999</td>\n",
       "      <td>0.0</td>\n",
       "      <td>12.0</td>\n",
       "      <td>NaN</td>\n",
       "      <td>3C00000005000000080010006A69000024022101010000...</td>\n",
       "    </tr>\n",
       "  </tbody>\n",
       "</table>\n",
       "<p>5 rows × 51 columns</p>\n",
       "</div>"
      ],
      "text/plain": [
       "   objectid  mapc_id  muni_id    muni        parloc_id     poly_typ  map_num  \\\n",
       "0    797047  1512945       35  Boston  M_233023_891613  Boston_poly      NaN   \n",
       "1    797048  1512946       35  Boston  M_232707_891494  Boston_poly      NaN   \n",
       "2    797049  1512947       35  Boston  M_227884_890500  Boston_poly      NaN   \n",
       "3    797050  1512948       35  Boston  M_228049_890279  Boston_poly      NaN   \n",
       "4    797051  1512949       35  Boston  M_232563_891546  Boston_poly      NaN   \n",
       "\n",
       "    mappar_id  loc_id_cnt  land_value  ...      landv_pac  bldgv_psf  \\\n",
       "0  1802214000         1.0     17300.0  ...  191628.839449    -0.9999   \n",
       "1  1802670000         1.0     20800.0  ...  229673.507517    -0.9999   \n",
       "2  2011012000         1.0      6600.0  ...  243601.146454    -0.9999   \n",
       "3  2011140000         1.0      9000.0  ...  208137.943829    -0.9999   \n",
       "4  1802571000         1.0     16200.0  ...  157623.634360    -0.9999   \n",
       "\n",
       "        totv_pac  bldlnd_rat  sqm_imperv  sqm_bldg  sqm_pave  realesttyp  \\\n",
       "0  191628.839449         0.0   33.501537   -0.9999       0.0        12.0   \n",
       "1  229673.507517         0.0   -0.999900   -0.9999       0.0        12.0   \n",
       "2  243601.146454         0.0   -0.999900   -0.9999       0.0        12.0   \n",
       "3  208137.943829         0.0   -0.999900   -0.9999       0.0        12.0   \n",
       "4  157623.634360         0.0   -0.999900   -0.9999       0.0        12.0   \n",
       "\n",
       "   temp                                              shape  \n",
       "0   NaN  3C00000005000000080010006A69000024022101010000...  \n",
       "1   NaN  3C00000005000000080010006A69000024022101010000...  \n",
       "2   NaN  3A00000005000000080010006A69000022022101010000...  \n",
       "3   NaN  4200000006000000080010006A6900002A022101010000...  \n",
       "4   NaN  3C00000005000000080010006A69000024022101010000...  \n",
       "\n",
       "[5 rows x 51 columns]"
      ]
     },
     "execution_count": 3,
     "metadata": {},
     "output_type": "execute_result"
    }
   ],
   "source": [
    "df = pd.read_csv(dataFile)\n",
    "df.head()\n"
   ]
  },
  {
   "cell_type": "code",
   "execution_count": null,
   "metadata": {},
   "outputs": [],
   "source": []
  },
  {
   "cell_type": "code",
   "execution_count": 26,
   "metadata": {},
   "outputs": [
    {
     "data": {
      "text/html": [
       "<div>\n",
       "<style scoped>\n",
       "    .dataframe tbody tr th:only-of-type {\n",
       "        vertical-align: middle;\n",
       "    }\n",
       "\n",
       "    .dataframe tbody tr th {\n",
       "        vertical-align: top;\n",
       "    }\n",
       "\n",
       "    .dataframe thead th {\n",
       "        text-align: right;\n",
       "    }\n",
       "</style>\n",
       "<table border=\"1\" class=\"dataframe\">\n",
       "  <thead>\n",
       "    <tr style=\"text-align: right;\">\n",
       "      <th></th>\n",
       "      <th>mapparId</th>\n",
       "    </tr>\n",
       "  </thead>\n",
       "  <tbody>\n",
       "    <tr>\n",
       "      <th>0</th>\n",
       "      <td>1802214000</td>\n",
       "    </tr>\n",
       "    <tr>\n",
       "      <th>1</th>\n",
       "      <td>1802670000</td>\n",
       "    </tr>\n",
       "    <tr>\n",
       "      <th>2</th>\n",
       "      <td>2011012000</td>\n",
       "    </tr>\n",
       "    <tr>\n",
       "      <th>3</th>\n",
       "      <td>2011140000</td>\n",
       "    </tr>\n",
       "    <tr>\n",
       "      <th>4</th>\n",
       "      <td>1802571000</td>\n",
       "    </tr>\n",
       "    <tr>\n",
       "      <th>...</th>\n",
       "      <td>...</td>\n",
       "    </tr>\n",
       "    <tr>\n",
       "      <th>99173</th>\n",
       "      <td>503748000</td>\n",
       "    </tr>\n",
       "    <tr>\n",
       "      <th>99174</th>\n",
       "      <td>1200921000</td>\n",
       "    </tr>\n",
       "    <tr>\n",
       "      <th>99175</th>\n",
       "      <td>2007742001</td>\n",
       "    </tr>\n",
       "    <tr>\n",
       "      <th>99176</th>\n",
       "      <td>1807374000</td>\n",
       "    </tr>\n",
       "    <tr>\n",
       "      <th>99177</th>\n",
       "      <td>1807477000</td>\n",
       "    </tr>\n",
       "  </tbody>\n",
       "</table>\n",
       "<p>99159 rows × 1 columns</p>\n",
       "</div>"
      ],
      "text/plain": [
       "         mapparId\n",
       "0      1802214000\n",
       "1      1802670000\n",
       "2      2011012000\n",
       "3      2011140000\n",
       "4      1802571000\n",
       "...           ...\n",
       "99173   503748000\n",
       "99174  1200921000\n",
       "99175  2007742001\n",
       "99176  1807374000\n",
       "99177  1807477000\n",
       "\n",
       "[99159 rows x 1 columns]"
      ]
     },
     "execution_count": 26,
     "metadata": {},
     "output_type": "execute_result"
    }
   ],
   "source": [
    "mappar = pd.DataFrame().assign(mapparId=df['mappar_id'])\n",
    "pd.to_numeric(mappar['mapparId'], errors=\"ignore\")\n",
    "mappar = mappar.dropna()\n",
    "mappar"
   ]
  },
  {
   "cell_type": "code",
   "execution_count": 30,
   "metadata": {},
   "outputs": [
    {
     "data": {
      "text/html": [
       "<div>\n",
       "<style scoped>\n",
       "    .dataframe tbody tr th:only-of-type {\n",
       "        vertical-align: middle;\n",
       "    }\n",
       "\n",
       "    .dataframe tbody tr th {\n",
       "        vertical-align: top;\n",
       "    }\n",
       "\n",
       "    .dataframe thead th {\n",
       "        text-align: right;\n",
       "    }\n",
       "</style>\n",
       "<table border=\"1\" class=\"dataframe\">\n",
       "  <thead>\n",
       "    <tr style=\"text-align: right;\">\n",
       "      <th></th>\n",
       "      <th>mapparId</th>\n",
       "    </tr>\n",
       "  </thead>\n",
       "  <tbody>\n",
       "  </tbody>\n",
       "</table>\n",
       "</div>"
      ],
      "text/plain": [
       "Empty DataFrame\n",
       "Columns: [mapparId]\n",
       "Index: []"
      ]
     },
     "execution_count": 30,
     "metadata": {},
     "output_type": "execute_result"
    }
   ],
   "source": []
  },
  {
   "cell_type": "code",
   "execution_count": 8,
   "metadata": {},
   "outputs": [
    {
     "data": {
      "text/plain": [
       "0        1802214000\n",
       "1        1802670000\n",
       "2        2011012000\n",
       "3        2011140000\n",
       "4        1802571000\n",
       "            ...    \n",
       "99173     503748000\n",
       "99174    1200921000\n",
       "99175    2007742001\n",
       "99176    1807374000\n",
       "99177    1807477000\n",
       "Name: mappar_id, Length: 99178, dtype: object"
      ]
     },
     "execution_count": 8,
     "metadata": {},
     "output_type": "execute_result"
    }
   ],
   "source": [
    "mappar"
   ]
  },
  {
   "cell_type": "code",
   "execution_count": 4,
   "metadata": {},
   "outputs": [
    {
     "data": {
      "text/plain": [
       "Index(['objectid', 'mapc_id', 'muni_id', 'muni', 'parloc_id', 'poly_typ',\n",
       "       'map_num', 'mappar_id', 'loc_id_cnt', 'land_value', 'bldg_value',\n",
       "       'othr_value', 'total_value', 'ls_price', 'ls_date', 'bldg_area',\n",
       "       'res_area', 'luc_1', 'luc_2', 'luc_adj_1', 'luc_adj_2', 'num_units',\n",
       "       'units_est', 'units_src', 'num_rooms', 'yr_built', 'site_addr',\n",
       "       'addr_str', 'addr_num', 'addr_zip', 'owner_name', 'owner_addr',\n",
       "       'owner_city', 'owner_stat', 'owner_zip', 'fy', 'lot_areaft', 'far',\n",
       "       'pct_imperv', 'pct_bldg', 'pct_pave', 'landv_pac', 'bldgv_psf',\n",
       "       'totv_pac', 'bldlnd_rat', 'sqm_imperv', 'sqm_bldg', 'sqm_pave',\n",
       "       'realesttyp', 'temp', 'shape'],\n",
       "      dtype='object')"
      ]
     },
     "execution_count": 4,
     "metadata": {},
     "output_type": "execute_result"
    }
   ],
   "source": [
    "df.columns\n",
    "#these arer the columns of the database, we only need a few of these columns to answer our quesitons"
   ]
  },
  {
   "cell_type": "code",
   "execution_count": null,
   "metadata": {},
   "outputs": [],
   "source": []
  }
 ],
 "metadata": {
  "kernelspec": {
   "display_name": "Python 3 (ipykernel)",
   "language": "python",
   "name": "python3"
  },
  "language_info": {
   "codemirror_mode": {
    "name": "ipython",
    "version": 3
   },
   "file_extension": ".py",
   "mimetype": "text/x-python",
   "name": "python",
   "nbconvert_exporter": "python",
   "pygments_lexer": "ipython3",
   "version": "3.9.12"
  },
  "vscode": {
   "interpreter": {
    "hash": "aee8b7b246df8f9039afb4144a1f6fd8d2ca17a180786b69acc140d282b71a49"
   }
  }
 },
 "nbformat": 4,
 "nbformat_minor": 2
}
